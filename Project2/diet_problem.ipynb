{
 "cells": [
  {
   "cell_type": "markdown",
   "id": "6d95c1f4-4374-4e75-a9ab-12d3affd7722",
   "metadata": {},
   "source": [
    "Subsistence Diets\n",
    "=================\n",
    "\n"
   ]
  },
  {
   "cell_type": "markdown",
   "id": "8a171677-1f96-42d7-8e52-d0e8bf77b557",
   "metadata": {},
   "source": [
    "## Introduction\n",
    "\n"
   ]
  },
  {
   "cell_type": "markdown",
   "id": "81f6249a-389b-4637-804b-2b470026fc6e",
   "metadata": {},
   "source": [
    "We&rsquo;re thinking about the problem of finding the cheapest possible\n",
    "nutritious diet.  Last time we argued that this problem could be\n",
    "expressed as a *linear program*\n",
    "$$\n",
    "    \\min_x p'x\n",
    "$$\n",
    "\n",
    "such that\n",
    "$$\\begin{bmatrix}\n",
    "      A\\\\\n",
    "      -A\n",
    "   \\end{bmatrix}x \\geq \\begin{bmatrix}\n",
    "                        b_{min}\\\\\n",
    "                        -b_{max}\n",
    "                      \\end{bmatrix},$$\n",
    "\n",
    "where $p$ is a vector of prices, $A$ is a matrix that maps\n",
    "vectors of quantities of food into vectors of nutrients, and where\n",
    "$b_{min}$ and $b_{max}$ are respectively dietary minimums\n",
    "and maximums of different nutrients.  As above, we will sometimes stack these\n",
    "objects, obtaining\n",
    "$$\n",
    "      \\tilde{A} = \\begin{bmatrix}\n",
    "                        A_{min}\\\\\n",
    "                        -A_{max}\n",
    "                      \\end{bmatrix}\n",
    "  $$\n",
    "and\n",
    "$$\n",
    "      \\tilde{b} = \\begin{bmatrix}\n",
    "                        b_{min}\\\\\n",
    "                        -b_{max}\n",
    "                      \\end{bmatrix}\n",
    "  $$\n",
    "\n",
    "Our job in this notebook: Specify the objects required by the linear\n",
    "program $(p,\\tilde{A},\\tilde{b})$, then have the computer solve the problem for us.\n",
    "\n"
   ]
  },
  {
   "cell_type": "markdown",
   "id": "12a3f838-64dc-4062-9da4-032dbf780af8",
   "metadata": {},
   "source": [
    "## USDA Food Central DataBase\n",
    "\n"
   ]
  },
  {
   "cell_type": "markdown",
   "id": "a9f79164-5371-4137-906c-6c517ab033aa",
   "metadata": {},
   "source": [
    "The USDA maintains a database of nutritional information, where\n",
    "different kinds of food are identified by an FDC number.  They do\n",
    "not provide any data on prices.  \n",
    "\n",
    "To look up nutritional information, use api provided by the USDA at\n",
    "[https://fdc.nal.usda.gov/](https://fdc.nal.usda.gov/).   You should sign up for a\n",
    "free api key (see directions on page), then add that key here in\n",
    "place of &ldquo;DEMO<sub>KEY</sub>&rdquo;.\n",
    "\n"
   ]
  },
  {
   "cell_type": "code",
   "execution_count": 1,
   "id": "39cc5421-5fea-44a4-9f5a-e2830bea5363",
   "metadata": {},
   "outputs": [],
   "source": [
    "apikey = \"DEMO_KEY\"  # Replace with a real key!  \"DEMO_KEY\" will be slow..."
   ]
  },
  {
   "cell_type": "markdown",
   "id": "9aaf3ebb-721b-4fc9-9b55-be5ac38c4902",
   "metadata": {},
   "source": [
    "### Looking up foods\n",
    "\n"
   ]
  },
  {
   "cell_type": "markdown",
   "id": "76559e5a-75e8-4ef3-8d55-9f0d7f9c4e6a",
   "metadata": {},
   "source": [
    "I&rsquo;ve written a little module `fooddatacentral`.  Install it (only once!), along with other requirements.\n",
    "\n"
   ]
  },
  {
   "cell_type": "code",
   "execution_count": 1,
   "id": "24c5b0b5-3a36-47f7-a220-a2b2e5af9bdd",
   "metadata": {},
   "outputs": [],
   "source": [
    "%pip install -r requirements.txt --upgrade"
   ]
  },
  {
   "cell_type": "markdown",
   "id": "61720730-cbe9-48c3-be37-e947fe4e61f7",
   "metadata": {},
   "source": [
    "This module offers some simple methods\n",
    "\n",
    "-   `search`\n",
    "-   `nutrients`\n",
    "-   `units`\n",
    "\n"
   ]
  },
  {
   "cell_type": "markdown",
   "id": "e1091ab9-4e90-44d2-b62d-c547890b40c1",
   "metadata": {},
   "source": [
    "### FDC Search\n",
    "\n"
   ]
  },
  {
   "cell_type": "markdown",
   "id": "8d8d466b-c730-4493-9b9a-3f6cc4712751",
   "metadata": {},
   "source": [
    "Here&rsquo;s a little code to help look up FDC codes for foods of\n",
    "different descriptions.\n",
    "\n"
   ]
  },
  {
   "cell_type": "code",
   "execution_count": 1,
   "id": "5a9f48bc-be49-4e87-b922-3d24e248247f",
   "metadata": {},
   "outputs": [],
   "source": [
    "import fooddatacentral as fdc\n",
    "\n",
    "fdc.search(apikey,\"marmite\")"
   ]
  },
  {
   "cell_type": "markdown",
   "id": "e56b1b3f-f6dc-4d78-b1e7-f9c869b64725",
   "metadata": {},
   "source": [
    "### FDC Nutrients\n",
    "\n"
   ]
  },
  {
   "cell_type": "markdown",
   "id": "96b99694-d257-4afb-b548-74f509c70b66",
   "metadata": {},
   "source": [
    "Once we know the `fdc_id` of a particular food we can look up a\n",
    "variety of information on it.  We start with nutrients\n",
    "\n"
   ]
  },
  {
   "cell_type": "code",
   "execution_count": 1,
   "id": "021f5766-6541-4142-a24b-78d2de543b86",
   "metadata": {},
   "outputs": [],
   "source": [
    "id =     # Put an FDC ID HERE!\n",
    "fdc.nutrients(apikey,fdc_id=id)"
   ]
  },
  {
   "cell_type": "markdown",
   "id": "76d56a04-e699-4746-9435-826b6932466b",
   "metadata": {},
   "source": [
    "## Prices\n",
    "\n"
   ]
  },
  {
   "cell_type": "markdown",
   "id": "4e4d3141-46f5-4512-ae8b-fc73bc2145f4",
   "metadata": {},
   "source": [
    "Now, let&rsquo;s begin thinking about constructing the objects we need for\n",
    "the linear program.  Start with specifying $p$, the vector of prices.  \n",
    "\n",
    "Also note that some kinds of foods need to have unit weights (in\n",
    "grams) supplied under &ldquo;Units&rdquo;; e.g., extra large eggs are taken to\n",
    "each weigh 56g.  These conversions can also often be found on the USDA\n",
    "FDC website.  \n",
    "\n",
    "Food is purchased in particular units (gallons, pounds, grams).  And\n",
    "in some cases the natural units are things like donuts or eggs, in\n",
    "which case we may need to define our  own units (see the example of\n",
    "&ldquo;xl<sub>egg</sub>&rdquo; below).  New units can be added to a file `.unitsrc` in your home directory.\n",
    "\n"
   ]
  },
  {
   "cell_type": "markdown",
   "id": "0761cb14-9324-4937-ab8f-046aa64b266f",
   "metadata": {},
   "source": [
    "### Example: Stigler&rsquo;s Foods\n",
    "\n"
   ]
  },
  {
   "cell_type": "markdown",
   "id": "23d92852-0d84-430c-8e61-c2a21a76d510",
   "metadata": {},
   "source": [
    "In his 1945 paper George Stigler constructed a subsistence diet\n",
    "chosen from 14 different goods (see Table B in [Stigler 1945](https://www.jstor.org/stable/pdf/1231810.pdf)), with\n",
    "prices reported for the years 1939 & 1944.\n",
    "\n",
    "I&rsquo;ve looked up more recent prices for these same goods, and recorded\n",
    "these at\n",
    "[https://docs.google.com/spreadsheets/d/1ObK5N_5aVXzVHE7ZXWBg0kQvPS3k1enRwsUjhytwh5A/](https://docs.google.com/spreadsheets/d/1ObK5N_5aVXzVHE7ZXWBg0kQvPS3k1enRwsUjhytwh5A/), in a sheet called &ldquo;Stigler Table B (2022 Prices)&rdquo;\n",
    "\n",
    "The code below allows us to collect data on different kinds of food\n",
    "with their prices from google spreadsheets.\n",
    "\n",
    "In this case, we use a function from a module I&rsquo;ve written,\n",
    " `eep153_tools.sheets`, to read the price data for the\n",
    "Stigler goods.\n",
    "\n"
   ]
  },
  {
   "cell_type": "code",
   "execution_count": 1,
   "id": "c78b157c-c856-4cdd-909c-ac81ab380879",
   "metadata": {},
   "outputs": [],
   "source": [
    "import pandas as pd\n",
    "from eep153_tools.sheets import read_sheets\n",
    "\n",
    "df = read_sheets(\"1ObK5N_5aVXzVHE7ZXWBg0kQvPS3k1enRwsUjhytwh5A\",sheet='Stigler Table B (2022 Prices)')\n",
    "\n",
    "df = df.set_index('Food')\n",
    "\n",
    "df"
   ]
  },
  {
   "cell_type": "markdown",
   "id": "8dc2e065-fda2-4a00-9d69-2289b056bea8",
   "metadata": {},
   "source": [
    "### Example: My Shopping Trip\n",
    "\n"
   ]
  },
  {
   "cell_type": "markdown",
   "id": "a08b0e56-cae9-4943-be7c-dfce9c4f5a42",
   "metadata": {},
   "source": [
    "Here&rsquo;s an example of describing some different kinds of food, along with\n",
    "data on food prices.  This is all just based on a trip I took to the\n",
    "grocery store, except that I&rsquo;ve used the USDA database to look up FDC\n",
    "numbers.  Note that we may need extra information to map some units\n",
    "into weights.  For example, I still need to weigh a crumpet.\n",
    "\n"
   ]
  },
  {
   "cell_type": "markdown",
   "id": "7f47f656-4d3f-4041-96e9-b72d4ee37458",
   "metadata": {},
   "source": [
    "#### Trip to Monterey Market\n",
    "\n"
   ]
  },
  {
   "cell_type": "code",
   "execution_count": 1,
   "id": "a5c577bf-57c6-42e2-aa55-61e207a12c18",
   "metadata": {},
   "outputs": [],
   "source": [
    "import pandas as pd\n",
    "from eep153_tools.sheets import read_sheets\n",
    "\n",
    "df = read_sheets('https://docs.google.com/spreadsheets/d/1ObK5N_5aVXzVHE7ZXWBg0kQvPS3k1enRwsUjhytwh5A/',sheet=\"Ligon's Shopping Trip\")\n",
    "\n",
    "df = df.set_index('Food')\n",
    "\n",
    "df"
   ]
  },
  {
   "cell_type": "markdown",
   "id": "23075c11-d787-414b-9ea4-5e35dd69403d",
   "metadata": {},
   "source": [
    "### Units & Prices\n",
    "\n"
   ]
  },
  {
   "cell_type": "markdown",
   "id": "6a40afd5-5476-4cd2-8198-5c489b8640cb",
   "metadata": {},
   "source": [
    "Now, the prices we observe can be for lots of different quantities and\n",
    " units.  The FDC database basically wants everything in either hundreds\n",
    " of grams (hectograms) or hundreds of milliliters (deciliters).  \n",
    "\n",
    "Sometimes this conversion is simple; if the price we observe is for\n",
    "something that weighs two kilograms, that&rsquo;s just 20 hectograms.\n",
    "Different systems of weights and volumes are also easy; a five pound\n",
    "bag of flour is approximately 22.68 hectograms.  \n",
    "\n",
    "Othertimes things are more complicated.  If you observe the price of a\n",
    "dozen donuts, that needs to be converted to hectograms, for example.  \n",
    "\n",
    "A function `units` in the [fdc](fooddatacentral.py) module accomplishes this conversion\n",
    "for many different units, using the `python` [pint module](https://pint.readthedocs.io/en/latest/).  A file\n",
    "[~/.units.rc](Data/food_units.txt) can be edited to deal with odd cases such as\n",
    "donuts, using a format described in the `pint` [documentation](https://pint.readthedocs.io/en/latest/advanced/defining.html).\n",
    "\n",
    "Here&rsquo;s an example of the usage of `fooddatacentral.units`:\n",
    "\n"
   ]
  },
  {
   "cell_type": "code",
   "execution_count": 1,
   "id": "515afeee-077e-4751-918e-0037fa3734e7",
   "metadata": {},
   "outputs": [],
   "source": [
    "# Try your own quantities and units.\n",
    "# If units are missing try adding to ~/.unitsrc\n",
    "\n",
    "print(fdc.units(5,'lbs'))\n",
    "print(fdc.units(1,'gallon'))\n",
    "print(fdc.units(2,'tea_bag'))\n",
    "print(fdc.units(12,'donut'))"
   ]
  },
  {
   "cell_type": "markdown",
   "id": "b5b60334-00cd-4240-8faf-36fce69161e5",
   "metadata": {},
   "source": [
    "Now, use the `units` function to convert all foods to either\n",
    " deciliters or hectograms, to match FDC database:\n",
    "\n"
   ]
  },
  {
   "cell_type": "code",
   "execution_count": 1,
   "id": "8e3111e2-9dc8-4de5-9355-8cbe03dae9fe",
   "metadata": {},
   "outputs": [],
   "source": [
    "import fooddatacentral as fdc\n",
    "\n",
    "# Convert food quantities to FDC units\n",
    "df['FDC Quantity'] = df[['Quantity','Units']].T.apply(lambda x : fdc.units(x['Quantity'],x['Units']))\n",
    "\n",
    "# Now divide price by the FDC Quantity to get, e.g., price per hectoliter\n",
    "df['FDC Price'] = df['Price']/df['FDC Quantity']\n",
    "\n",
    "df.dropna(how='any') # Drop food with any missing data\n",
    "\n",
    "# To use minimum price observed\n",
    "Prices = df.groupby('Food')['FDC Price'].min()\n",
    "\n",
    "Prices"
   ]
  },
  {
   "cell_type": "markdown",
   "id": "1ddf8fe5-8621-4e11-bf3b-6c3133eb6209",
   "metadata": {},
   "source": [
    "## Mapping to Nutrients\n",
    "\n"
   ]
  },
  {
   "cell_type": "markdown",
   "id": "492f0c18-d50b-4327-a8bb-e72e026e5e02",
   "metadata": {},
   "source": [
    "Next we want to build the matrix $A$, which maps quantities of food\n",
    " into nutrients.  We have a list of foods with prices.  Do lookups on USDA database\n",
    " to get nutritional information.\n",
    "\n"
   ]
  },
  {
   "cell_type": "code",
   "execution_count": 1,
   "id": "00cb50dc-35cc-47c6-ba0f-d7d8f67b8533",
   "metadata": {},
   "outputs": [],
   "source": [
    "import warnings\n",
    "\n",
    "D = {}\n",
    "count = 0\n",
    "for food in  df.index:\n",
    "    try:\n",
    "        FDC = df.loc[df.index==food,:].FDC.values[0]\n",
    "        count+=1\n",
    "        D[food] = fdc.nutrients(apikey,FDC).Quantity\n",
    "        print(food)\n",
    "    except AttributeError:\n",
    "        warnings.warn(f\"Couldn't find FDC Code {FDC} for food {food}.\")\n",
    "\n",
    "D = pd.DataFrame(D,dtype=float)\n",
    "\n",
    "D"
   ]
  },
  {
   "cell_type": "markdown",
   "id": "7b793d53-32df-4c97-9ac4-0240585e5e6f",
   "metadata": {},
   "source": [
    "## Dietary Requirements\n",
    "\n"
   ]
  },
  {
   "cell_type": "markdown",
   "id": "3fc356b0-c3af-4378-9f2e-968f5fc2c660",
   "metadata": {},
   "source": [
    "We&rsquo;ve figured out some foods we can buy, the nutritional content of\n",
    "those foods, and  the price of the foods.  Now we need to say\n",
    "something about nutritional requirements, and construct the vectors\n",
    "$b_{min}$ and $b_{max}$.   Our data for this is based\n",
    "on  US government recommendations available at\n",
    "[https://www.dietaryguidelines.gov/sites/default/files/2021-03/Dietary_Guidelines_for_Americans-2020-2025.pdf](https://www.dietaryguidelines.gov/sites/default/files/2021-03/Dietary_Guidelines_for_Americans-2020-2025.pdf)\n",
    "\n",
    "I&rsquo;ve put some of these data into a google spreadsheet at\n",
    "[https://docs.google.com/spreadsheets/d/1y95IsQ4HKspPW3HHDtH7QMtlDA66IUsCHJLutVL-MMc/](https://docs.google.com/spreadsheets/d/1y95IsQ4HKspPW3HHDtH7QMtlDA66IUsCHJLutVL-MMc/). \n",
    "Note that we&rsquo;ve tweaked the nutrient labels to match those in the FDC\n",
    "data.\n",
    "\n",
    "We&rsquo;ve broken down the requirements into three different tables.  The\n",
    "first is *minimum* quantities that we need to  satisfy.  For example,\n",
    "this table tells us that a 20 year-old female needs at least 46 grams\n",
    "of protein per day.\n",
    "\n"
   ]
  },
  {
   "cell_type": "code",
   "execution_count": 1,
   "id": "4fb06742-df11-4c6f-bb4b-d2dea4bb582b",
   "metadata": {},
   "outputs": [],
   "source": [
    "RDIs = read_sheets('https://docs.google.com/spreadsheets/d/1y95IsQ4HKspPW3HHDtH7QMtlDA66IUsCHJLutVL-MMc/')\n",
    "\n",
    "bmin = RDIs['diet_minimums'].set_index('Nutrition')\n",
    "\n",
    "# Drop string describing source\n",
    "bmin = bmin.drop('Source',axis=1)\n",
    "\n",
    "bmin"
   ]
  },
  {
   "cell_type": "markdown",
   "id": "3e50db54-f0f8-4d2b-9b1b-1b580abd2d6c",
   "metadata": {},
   "source": [
    "This next table specifies *maximum* quantities.  Our 20 year-old\n",
    "female shouldn&rsquo;t have more than 2300 milligrams of sodium per day.\n",
    "\n"
   ]
  },
  {
   "cell_type": "code",
   "execution_count": 1,
   "id": "ea5969ca-a112-4269-9781-a078b5581807",
   "metadata": {},
   "outputs": [],
   "source": [
    "bmax = RDIs['diet_maximums'].set_index('Nutrition')\n",
    "\n",
    "# Drop string describing source\n",
    "bmax = bmax.drop('Source',axis=1)\n",
    "\n",
    "bmax"
   ]
  },
  {
   "cell_type": "markdown",
   "id": "a6ce123b-ae9f-4a78-9665-262efc85e5c8",
   "metadata": {},
   "source": [
    "## Putting it together\n",
    "\n"
   ]
  },
  {
   "cell_type": "markdown",
   "id": "9492849f-1fdf-47cc-a9fa-cc852e72cf55",
   "metadata": {},
   "source": [
    "Here we take the different pieces of the puzzle we&rsquo;ve developed and\n",
    "put them together in the form of a linear program we can solve.\n",
    "Recall that the mathematical problem we&rsquo;re trying to solve is\n",
    "$$\n",
    "    \\min_x p'x\n",
    "$$\n",
    "such that\n",
    "$$\n",
    "     \\tilde{A}x \\geq \\tilde{b}\n",
    "$$\n",
    "\n"
   ]
  },
  {
   "cell_type": "markdown",
   "id": "b0d84626-6158-43c4-baec-71f9f0b9e511",
   "metadata": {},
   "source": [
    "### Objective function ($p$)\n",
    "\n"
   ]
  },
  {
   "cell_type": "markdown",
   "id": "de06c744-ee42-492a-8ab4-aeb9eced3b79",
   "metadata": {},
   "source": [
    "If we buy a bag of groceries with quantities given by $x$, the total\n",
    "cost of the bag of groceries is the inner product of prices and\n",
    "quantities.  Since we&rsquo;ve converted our units above, this gives us a\n",
    "vector of prices where quantities are all in 100 g or ml units.\n",
    "\n"
   ]
  },
  {
   "cell_type": "code",
   "execution_count": 1,
   "id": "6eba0d9f-2f26-4b4f-9dcf-c05f016e309c",
   "metadata": {},
   "outputs": [],
   "source": [
    "p = Prices.apply(lambda x:x.magnitude).dropna()\n",
    "\n",
    "# Compile list that we have both prices and nutritional info for; drop if either missing\n",
    "use = p.index.intersection(D.columns)\n",
    "p = p[use]\n",
    "\n",
    "p"
   ]
  },
  {
   "cell_type": "markdown",
   "id": "e75088db-8680-47dc-b44a-5da28228fc8e",
   "metadata": {},
   "source": [
    "### Nutrient Mapping Matrix ($A$)\n",
    "\n"
   ]
  },
  {
   "cell_type": "markdown",
   "id": "e04f28b8-d321-48b6-a4d9-2190c1afca43",
   "metadata": {},
   "source": [
    "The matrix $A$ maps a bag of groceries $x$ into nutrients, but we\n",
    "don&rsquo;t need to keep track of nutrients for which we don&rsquo;t have\n",
    "contraints.\n",
    "\n"
   ]
  },
  {
   "cell_type": "code",
   "execution_count": 1,
   "id": "4e01e8e4-246e-406d-bb99-8287a1f882e9",
   "metadata": {},
   "outputs": [],
   "source": [
    "# Drop nutritional information for foods we don't know the price of,\n",
    "# and replace missing nutrients with zeros.\n",
    "Aall = D[p.index].fillna(0)\n",
    "\n",
    "# Drop rows of A that we don't have constraints for.\n",
    "Amin = Aall.loc[bmin.index]\n",
    "\n",
    "Amax = Aall.loc[bmax.index]\n",
    "\n",
    "# Maximum requirements involve multiplying constraint by -1 to make <=.\n",
    "A = pd.concat([Amin,-Amax])\n",
    "\n",
    "A"
   ]
  },
  {
   "cell_type": "markdown",
   "id": "017e5b73-f18f-4d49-9059-a27cd711956a",
   "metadata": {},
   "source": [
    "### Constraint vector ($b$)\n",
    "\n"
   ]
  },
  {
   "cell_type": "markdown",
   "id": "3c391327-730f-4eaa-861c-11a160d82265",
   "metadata": {},
   "source": [
    "Finally, the right hand side vector $b$ in the expression\n",
    "$$\n",
    "    Ax\\geq b\n",
    "$$\n",
    "\n"
   ]
  },
  {
   "cell_type": "code",
   "execution_count": 1,
   "id": "739059fd-bf7b-4b4b-9d96-08ab24810fcb",
   "metadata": {},
   "outputs": [],
   "source": [
    "b = pd.concat([bmin,-bmax]) # Note sign change for max constraints\n",
    "\n",
    "b"
   ]
  },
  {
   "cell_type": "markdown",
   "id": "36e63f3c-3b5f-4a0e-9aa0-622a528fbced",
   "metadata": {},
   "source": [
    "## Solving the problem\n",
    "\n"
   ]
  },
  {
   "cell_type": "markdown",
   "id": "2d414496-6b0b-426f-b69f-117b5b67cdbb",
   "metadata": {},
   "source": [
    "First, we find a solution to the problem\n",
    "\n"
   ]
  },
  {
   "cell_type": "code",
   "execution_count": 1,
   "id": "9fd494c7-e97d-466f-a3c7-fadacc30d656",
   "metadata": {},
   "outputs": [],
   "source": [
    "from  scipy.optimize import linprog as lp\n",
    "import numpy as np\n",
    "\n",
    "tol = 1e-6 # Numbers in solution smaller than this (in absolute value) treated as zeros\n",
    "\n",
    "## Choose sex/age group!\n",
    "group = \"F 19-30\"\n",
    "\n",
    "# Now solve problem!  (Note that the linear program solver we'll use assumes\n",
    "# \"less-than-or-equal\" constraints.  We can switch back and forth by\n",
    "# multiplying $A$ and $b$ by $-1$.)\n",
    "\n",
    "result = lp(p, -A, -b[group], method='highs')\n",
    "\n",
    "result"
   ]
  },
  {
   "cell_type": "markdown",
   "id": "71895a8c-23e9-4837-812c-cde2aa956fc6",
   "metadata": {},
   "source": [
    "Let&rsquo;s interpret this.  Start with the cost of the solution:\n",
    "\n"
   ]
  },
  {
   "cell_type": "code",
   "execution_count": 1,
   "id": "27e5b846-6980-43c1-9eb2-1c57b3ed23df",
   "metadata": {},
   "outputs": [],
   "source": [
    "print(f\"Cost of diet for {group} is ${result.fun:.2f} per day.\")"
   ]
  },
  {
   "cell_type": "markdown",
   "id": "04d06417-5b94-4267-8ab2-e8d99fc21898",
   "metadata": {},
   "source": [
    "Next, what is it we&rsquo;re actually eating?\n",
    "\n"
   ]
  },
  {
   "cell_type": "code",
   "execution_count": 1,
   "id": "2fc40c72-4ffc-4cb7-8ffc-e280341099b6",
   "metadata": {},
   "outputs": [],
   "source": [
    "# Put back into nice series\n",
    "diet = pd.Series(result.x,index=p.index)\n",
    "\n",
    "print(\"\\nYou'll be eating (in 100s of grams or milliliters):\")\n",
    "print(diet[diet >= tol])  # Drop items with quantities less than precision of calculation."
   ]
  },
  {
   "cell_type": "markdown",
   "id": "7ffc17a5-222f-44ca-913a-2852e772d4dc",
   "metadata": {},
   "source": [
    "Given this diet, what are nutritional outcomes?\n",
    "\n"
   ]
  },
  {
   "cell_type": "code",
   "execution_count": 1,
   "id": "7ae577fb-811c-45e4-87cc-9e634ff3874f",
   "metadata": {},
   "outputs": [],
   "source": [
    "tab = pd.DataFrame({\"Outcome\":np.abs(A).dot(diet),\"Recommendation\":np.abs(b[group])})\n",
    "print(\"\\nWith the following nutritional outcomes of interest:\")\n",
    "tab"
   ]
  },
  {
   "cell_type": "markdown",
   "id": "68ab41b4-ddb2-48dd-b6fa-073df3534e49",
   "metadata": {},
   "source": [
    "Finally, what are the constraints that bind?  Finding a less expensive\n",
    "diet might involve finding less expensive sources for these particular nutrients.\n",
    "\n"
   ]
  },
  {
   "cell_type": "code",
   "execution_count": 1,
   "id": "451ec80b-fde3-47eb-a430-d73fdf20f9ef",
   "metadata": {},
   "outputs": [],
   "source": [
    "print(\"\\nConstraining nutrients are:\")\n",
    "excess = tab.diff(axis=1).iloc[:,1]\n",
    "print(excess.loc[np.abs(excess) < tol].index.tolist())"
   ]
  }
 ],
 "metadata": {
  "kernelspec": {
   "display_name": "Python 3 (ipykernel)",
   "language": "python",
   "name": "python3"
  },
  "language_info": {
   "codemirror_mode": {
    "name": "ipython",
    "version": 3
   },
   "file_extension": ".py",
   "mimetype": "text/x-python",
   "name": "python",
   "nbconvert_exporter": "python",
   "pygments_lexer": "ipython3",
   "version": "3.11.5"
  },
  "org": null
 },
 "nbformat": 4,
 "nbformat_minor": 5
}

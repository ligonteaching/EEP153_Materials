{
 "cells": [
  {
   "cell_type": "markdown",
   "id": "58b97954-e49b-4dd5-9b9b-de47494458f3",
   "metadata": {},
   "source": [
    "## Estimation Example\n",
    "\n"
   ]
  },
  {
   "cell_type": "markdown",
   "id": "9874a9a3-deec-4300-ab7d-41446393a0f9",
   "metadata": {},
   "source": [
    "In this document we&rsquo;ll work through a simple approach to estimating\n",
    "Constant Frisch Elasticity (CFE) demand systems.\n",
    "\n",
    "There are two prerequisites; the first is the `CFEDemands` python\n",
    "module.  You may have this already, but if not it  can be installed with a simple:\n",
    "\n"
   ]
  },
  {
   "cell_type": "code",
   "execution_count": 1,
   "id": "24b582ee-f815-4bbb-8634-dc3a70138ba9",
   "metadata": {},
   "outputs": [],
   "source": [
    "#!pip install -r requirements.txt"
   ]
  },
  {
   "cell_type": "markdown",
   "id": "52e3c003-95b6-45a5-9d63-bc3a07a7d778",
   "metadata": {},
   "source": [
    "The second prerequisite is a dataset including detailed information on\n",
    "household expenditures and characteristics.  The structure of that\n",
    "dataset is detailed in the next section.\n",
    "\n"
   ]
  },
  {
   "cell_type": "markdown",
   "id": "24afc217-3b0f-4cb6-993d-a287d4e608de",
   "metadata": {},
   "source": [
    "### Data\n",
    "\n"
   ]
  },
  {
   "cell_type": "markdown",
   "id": "b9583426-e577-4f72-8f7c-d17dc6344221",
   "metadata": {},
   "source": [
    "Consider the case in which the data are saved in a google sheet; we&rsquo;ll\n",
    "turn data from these into `pandas` dataframes.\n",
    "There are limits on the allowable size of google sheets (5 million\n",
    "cells when I last checked), so if your dataset is larger than this you&rsquo;ll need some other\n",
    "mechanism to get your data into such dataframes.  Even in this latter\n",
    "case you&rsquo;ll want your dataframes to have a structure that matches the\n",
    "description given below.\n",
    "\n"
   ]
  },
  {
   "cell_type": "markdown",
   "id": "e684d445-262d-418d-ae98-2572f595d915",
   "metadata": {},
   "source": [
    "#### Structure of the Spreadsheet\n",
    "\n"
   ]
  },
  {
   "cell_type": "markdown",
   "id": "f815306f-8fff-4ecd-bd9c-78be1922be25",
   "metadata": {},
   "source": [
    "An example spreadsheet with data for Uganda can be found at\n",
    "[https://docs.google.com/spreadsheets/d/1yFWlP5N7Aowaj6t2roRSFFUC50aFD-RLBGfzGtqLl0w/](https://docs.google.com/spreadsheets/d/1yFWlP5N7Aowaj6t2roRSFFUC50aFD-RLBGfzGtqLl0w/)\n",
    "\n",
    "This spreadsheet consists of several worksheets, labeled &ldquo;RDI&rdquo;, &ldquo;FCT&rdquo;,\n",
    "&ldquo;Household Characteristics&rdquo;, and a series of different years of food expenditures and prices\n",
    "\n",
    "Most worksheets have the initial three columns labeled &ldquo;i&rdquo;, &ldquo;t&rdquo;, and\n",
    "&ldquo;m&rdquo;; together these identify an observation uniquely.  The column &ldquo;i&rdquo;\n",
    "should include a household id; the column &ldquo;t&rdquo; should include an\n",
    "indicator for the year or period (for those of you with\n",
    "cross-sectional data these will all take a common value, e.g., 2019);\n",
    "the column &ldquo;m&rdquo; should be an indicator of &ldquo;market&rdquo;, which may be a\n",
    "region identifier, or may take a single value (e.g., &ldquo;Uganda&rdquo;).\n",
    "\n",
    "The triple (i,t,m) will serve as the index of some constructed\n",
    "dataframes.  It is important not to have **too** many different values\n",
    "for &ldquo;m&rdquo; (unless you have lots of data and RAM to play with).\n",
    "\n",
    "Beyond the first three columns, the &ldquo;Expenditures&rdquo; worksheet for a given year should have one index (or alternatively, one column) for each category of expenditures (e.g., &ldquo;Beans&rdquo;, &ldquo;Beef&rdquo;, &ldquo;Beer&rdquo;,&#x2026;).\n",
    "\n",
    "Beyond the first three columns, the &ldquo;Household Characteristics&rdquo; should\n",
    "have columns corresponding to different elements of the vector of\n",
    "observable characteristics $z$.  If the data permit, I recommend\n",
    "constructing observables that match what I have in these data:\n",
    "namely numbers of different children by age and sex, along with the\n",
    "logarithm of total household size (&ldquo;log HSize&rdquo;).\n",
    "\n"
   ]
  },
  {
   "cell_type": "markdown",
   "id": "9e983fb0-d3c0-4403-b9a0-b0762961f034",
   "metadata": {},
   "source": [
    "#### From Sheet to DataFrame to Regression Object\n",
    "\n"
   ]
  },
  {
   "cell_type": "markdown",
   "id": "804af298-90de-49a2-98f5-d71f7ebc09d7",
   "metadata": {},
   "source": [
    "We begin by defining a dictionary that contains the spreadsheet key.\n",
    "One is provided for the Ugandan example that I wish to work\n",
    "through.\n",
    "\n"
   ]
  },
  {
   "cell_type": "code",
   "execution_count": 1,
   "id": "c96784f0-0395-48fd-8763-3f690df0dbf3",
   "metadata": {},
   "outputs": [],
   "source": [
    "Uganda_Data = '1yFWlP5N7Aowaj6t2roRSFFUC50aFD-RLBGfzGtqLl0w'"
   ]
  },
  {
   "cell_type": "markdown",
   "id": "fab12f21-2719-4481-a882-400f5b29510c",
   "metadata": {},
   "source": [
    "With the spreadsheet defined , grab it and define a couple of\n",
    "dataframes. (Sheets should be shared with `students@eep153.iam.gserviceaccount.com`):\n",
    "\n"
   ]
  },
  {
   "cell_type": "code",
   "execution_count": 2,
   "id": "2f7d6964-309d-47d2-9d9c-310b63bb7f74",
   "metadata": {},
   "outputs": [],
   "source": [
    "import pandas as pd\n",
    "import numpy as np\n",
    "from eep153_tools.sheets import read_sheets\n",
    "\n",
    "# Change 'Uganda_Data' to key of your own sheet in Sheets, above\n",
    "x = read_sheets(Uganda_Data,sheet='Food Expenditures (2019-20)')\n",
    "x = x.set_index(['i','t','m','j']).squeeze()\n",
    "\n",
    "\n",
    "# Now prices\n",
    "p = read_sheets(Uganda_Data,sheet='Food Prices (2019-20)').set_index(['t','m','j','u'])\n",
    "\n",
    "# Compute medians of prices for particular time, place and unit\n",
    "p = p.groupby(['t','m','j','u']).median()\n",
    "\n",
    "# Just keep metric units\n",
    "p = p.xs('Kg',level=\"u\").squeeze().unstack('j')\n",
    "\n",
    "# Get intersection of goods we have prices *and* expenditures for:\n",
    "jidx = p.columns.intersection(x.index.levels[-1])\n",
    "\n",
    "# Drop prices for goods we don't have expenditures for\n",
    "p = p[jidx].T\n",
    "\n",
    "# Household characteristics\n",
    "d = read_sheets(Uganda_Data,sheet=\"Household Characteristics\")\n",
    "d.columns.name = 'k'\n",
    "\n",
    "# Fill blanks with zeros\n",
    "d = d.replace(np.nan,0)\n",
    "\n",
    "# Expenditures x may have duplicate columns\n",
    "x = x.T.groupby(['i','t','m','j']).sum()\n",
    "x = x.replace(0,np.nan) # Replace zeros with missing\n",
    "\n",
    "# Take logs of expenditures; call this y\n",
    "y = np.log(x)\n",
    "\n",
    "d.set_index(['i','t','m'],inplace=True)"
   ]
  },
  {
   "cell_type": "markdown",
   "id": "651d6e94-d6db-4064-b9c5-125fc7d5f3a4",
   "metadata": {},
   "source": [
    "This gives a dataframe of household characteristics $d$ with a simple structure.\n",
    "\n"
   ]
  },
  {
   "cell_type": "code",
   "execution_count": 3,
   "id": "33c04b4c-73a2-4122-b51d-2bf816499620",
   "metadata": {},
   "outputs": [
    {
     "data": {
      "text/html": [
       "<div>\n",
       "<style scoped>\n",
       "    .dataframe tbody tr th:only-of-type {\n",
       "        vertical-align: middle;\n",
       "    }\n",
       "\n",
       "    .dataframe tbody tr th {\n",
       "        vertical-align: top;\n",
       "    }\n",
       "\n",
       "    .dataframe thead th {\n",
       "        text-align: right;\n",
       "    }\n",
       "</style>\n",
       "<table border=\"1\" class=\"dataframe\">\n",
       "  <thead>\n",
       "    <tr style=\"text-align: right;\">\n",
       "      <th></th>\n",
       "      <th></th>\n",
       "      <th>k</th>\n",
       "      <th>Females 00-03</th>\n",
       "      <th>Females 04-08</th>\n",
       "      <th>Females 09-13</th>\n",
       "      <th>Females 14-18</th>\n",
       "      <th>Females 19-30</th>\n",
       "      <th>Females 31-50</th>\n",
       "      <th>Females 51-99</th>\n",
       "      <th>Males 00-03</th>\n",
       "      <th>Males 04-08</th>\n",
       "      <th>Males 09-13</th>\n",
       "      <th>Males 14-18</th>\n",
       "      <th>Males 19-30</th>\n",
       "      <th>Males 31-50</th>\n",
       "      <th>Males 51-99</th>\n",
       "      <th>log HSize</th>\n",
       "    </tr>\n",
       "    <tr>\n",
       "      <th>i</th>\n",
       "      <th>t</th>\n",
       "      <th>m</th>\n",
       "      <th></th>\n",
       "      <th></th>\n",
       "      <th></th>\n",
       "      <th></th>\n",
       "      <th></th>\n",
       "      <th></th>\n",
       "      <th></th>\n",
       "      <th></th>\n",
       "      <th></th>\n",
       "      <th></th>\n",
       "      <th></th>\n",
       "      <th></th>\n",
       "      <th></th>\n",
       "      <th></th>\n",
       "      <th></th>\n",
       "    </tr>\n",
       "  </thead>\n",
       "  <tbody>\n",
       "    <tr>\n",
       "      <th>0007d1f1449242feb5a25429644fb991</th>\n",
       "      <th>2019-20</th>\n",
       "      <th>Northern</th>\n",
       "      <td>0.0</td>\n",
       "      <td>0.0</td>\n",
       "      <td>0.0</td>\n",
       "      <td>0.0</td>\n",
       "      <td>1.0</td>\n",
       "      <td>0.0</td>\n",
       "      <td>1.0</td>\n",
       "      <td>1.0</td>\n",
       "      <td>0.0</td>\n",
       "      <td>0.0</td>\n",
       "      <td>1.0</td>\n",
       "      <td>1.0</td>\n",
       "      <td>0.0</td>\n",
       "      <td>0.0</td>\n",
       "      <td>1.609438</td>\n",
       "    </tr>\n",
       "    <tr>\n",
       "      <th>0010cbae3cea4ec9831f6cd92b02dc16</th>\n",
       "      <th>2019-20</th>\n",
       "      <th>Northern</th>\n",
       "      <td>0.0</td>\n",
       "      <td>0.0</td>\n",
       "      <td>0.0</td>\n",
       "      <td>0.0</td>\n",
       "      <td>1.0</td>\n",
       "      <td>0.0</td>\n",
       "      <td>1.0</td>\n",
       "      <td>0.0</td>\n",
       "      <td>0.0</td>\n",
       "      <td>0.0</td>\n",
       "      <td>0.0</td>\n",
       "      <td>0.0</td>\n",
       "      <td>0.0</td>\n",
       "      <td>1.0</td>\n",
       "      <td>1.098612</td>\n",
       "    </tr>\n",
       "    <tr>\n",
       "      <th>00246782f8654441a9df0f6ec0b6fc9f</th>\n",
       "      <th>2019-20</th>\n",
       "      <th>Northern</th>\n",
       "      <td>1.0</td>\n",
       "      <td>0.0</td>\n",
       "      <td>1.0</td>\n",
       "      <td>0.0</td>\n",
       "      <td>0.0</td>\n",
       "      <td>1.0</td>\n",
       "      <td>0.0</td>\n",
       "      <td>0.0</td>\n",
       "      <td>1.0</td>\n",
       "      <td>1.0</td>\n",
       "      <td>0.0</td>\n",
       "      <td>0.0</td>\n",
       "      <td>1.0</td>\n",
       "      <td>0.0</td>\n",
       "      <td>1.791759</td>\n",
       "    </tr>\n",
       "    <tr>\n",
       "      <th>003ed8d32f794609919d60d2ed8813e8</th>\n",
       "      <th>2019-20</th>\n",
       "      <th>Eastern</th>\n",
       "      <td>0.0</td>\n",
       "      <td>1.0</td>\n",
       "      <td>1.0</td>\n",
       "      <td>0.0</td>\n",
       "      <td>0.0</td>\n",
       "      <td>0.0</td>\n",
       "      <td>1.0</td>\n",
       "      <td>0.0</td>\n",
       "      <td>0.0</td>\n",
       "      <td>1.0</td>\n",
       "      <td>0.0</td>\n",
       "      <td>0.0</td>\n",
       "      <td>0.0</td>\n",
       "      <td>0.0</td>\n",
       "      <td>1.386294</td>\n",
       "    </tr>\n",
       "    <tr>\n",
       "      <th>004e93d7552248ed95d8bc3ec21bdbdb</th>\n",
       "      <th>2018-19</th>\n",
       "      <th>Eastern</th>\n",
       "      <td>1.0</td>\n",
       "      <td>0.0</td>\n",
       "      <td>1.0</td>\n",
       "      <td>0.0</td>\n",
       "      <td>1.0</td>\n",
       "      <td>0.0</td>\n",
       "      <td>0.0</td>\n",
       "      <td>0.0</td>\n",
       "      <td>0.0</td>\n",
       "      <td>0.0</td>\n",
       "      <td>0.0</td>\n",
       "      <td>0.0</td>\n",
       "      <td>1.0</td>\n",
       "      <td>0.0</td>\n",
       "      <td>1.386294</td>\n",
       "    </tr>\n",
       "  </tbody>\n",
       "</table>\n",
       "</div>"
      ],
      "text/plain": [
       "k                                                  Females 00-03  \\\n",
       "i                                t       m                         \n",
       "0007d1f1449242feb5a25429644fb991 2019-20 Northern            0.0   \n",
       "0010cbae3cea4ec9831f6cd92b02dc16 2019-20 Northern            0.0   \n",
       "00246782f8654441a9df0f6ec0b6fc9f 2019-20 Northern            1.0   \n",
       "003ed8d32f794609919d60d2ed8813e8 2019-20 Eastern             0.0   \n",
       "004e93d7552248ed95d8bc3ec21bdbdb 2018-19 Eastern             1.0   \n",
       "\n",
       "k                                                  Females 04-08  \\\n",
       "i                                t       m                         \n",
       "0007d1f1449242feb5a25429644fb991 2019-20 Northern            0.0   \n",
       "0010cbae3cea4ec9831f6cd92b02dc16 2019-20 Northern            0.0   \n",
       "00246782f8654441a9df0f6ec0b6fc9f 2019-20 Northern            0.0   \n",
       "003ed8d32f794609919d60d2ed8813e8 2019-20 Eastern             1.0   \n",
       "004e93d7552248ed95d8bc3ec21bdbdb 2018-19 Eastern             0.0   \n",
       "\n",
       "k                                                  Females 09-13  \\\n",
       "i                                t       m                         \n",
       "0007d1f1449242feb5a25429644fb991 2019-20 Northern            0.0   \n",
       "0010cbae3cea4ec9831f6cd92b02dc16 2019-20 Northern            0.0   \n",
       "00246782f8654441a9df0f6ec0b6fc9f 2019-20 Northern            1.0   \n",
       "003ed8d32f794609919d60d2ed8813e8 2019-20 Eastern             1.0   \n",
       "004e93d7552248ed95d8bc3ec21bdbdb 2018-19 Eastern             1.0   \n",
       "\n",
       "k                                                  Females 14-18  \\\n",
       "i                                t       m                         \n",
       "0007d1f1449242feb5a25429644fb991 2019-20 Northern            0.0   \n",
       "0010cbae3cea4ec9831f6cd92b02dc16 2019-20 Northern            0.0   \n",
       "00246782f8654441a9df0f6ec0b6fc9f 2019-20 Northern            0.0   \n",
       "003ed8d32f794609919d60d2ed8813e8 2019-20 Eastern             0.0   \n",
       "004e93d7552248ed95d8bc3ec21bdbdb 2018-19 Eastern             0.0   \n",
       "\n",
       "k                                                  Females 19-30  \\\n",
       "i                                t       m                         \n",
       "0007d1f1449242feb5a25429644fb991 2019-20 Northern            1.0   \n",
       "0010cbae3cea4ec9831f6cd92b02dc16 2019-20 Northern            1.0   \n",
       "00246782f8654441a9df0f6ec0b6fc9f 2019-20 Northern            0.0   \n",
       "003ed8d32f794609919d60d2ed8813e8 2019-20 Eastern             0.0   \n",
       "004e93d7552248ed95d8bc3ec21bdbdb 2018-19 Eastern             1.0   \n",
       "\n",
       "k                                                  Females 31-50  \\\n",
       "i                                t       m                         \n",
       "0007d1f1449242feb5a25429644fb991 2019-20 Northern            0.0   \n",
       "0010cbae3cea4ec9831f6cd92b02dc16 2019-20 Northern            0.0   \n",
       "00246782f8654441a9df0f6ec0b6fc9f 2019-20 Northern            1.0   \n",
       "003ed8d32f794609919d60d2ed8813e8 2019-20 Eastern             0.0   \n",
       "004e93d7552248ed95d8bc3ec21bdbdb 2018-19 Eastern             0.0   \n",
       "\n",
       "k                                                  Females 51-99  Males 00-03  \\\n",
       "i                                t       m                                      \n",
       "0007d1f1449242feb5a25429644fb991 2019-20 Northern            1.0          1.0   \n",
       "0010cbae3cea4ec9831f6cd92b02dc16 2019-20 Northern            1.0          0.0   \n",
       "00246782f8654441a9df0f6ec0b6fc9f 2019-20 Northern            0.0          0.0   \n",
       "003ed8d32f794609919d60d2ed8813e8 2019-20 Eastern             1.0          0.0   \n",
       "004e93d7552248ed95d8bc3ec21bdbdb 2018-19 Eastern             0.0          0.0   \n",
       "\n",
       "k                                                  Males 04-08  Males 09-13  \\\n",
       "i                                t       m                                    \n",
       "0007d1f1449242feb5a25429644fb991 2019-20 Northern          0.0          0.0   \n",
       "0010cbae3cea4ec9831f6cd92b02dc16 2019-20 Northern          0.0          0.0   \n",
       "00246782f8654441a9df0f6ec0b6fc9f 2019-20 Northern          1.0          1.0   \n",
       "003ed8d32f794609919d60d2ed8813e8 2019-20 Eastern           0.0          1.0   \n",
       "004e93d7552248ed95d8bc3ec21bdbdb 2018-19 Eastern           0.0          0.0   \n",
       "\n",
       "k                                                  Males 14-18  Males 19-30  \\\n",
       "i                                t       m                                    \n",
       "0007d1f1449242feb5a25429644fb991 2019-20 Northern          1.0          1.0   \n",
       "0010cbae3cea4ec9831f6cd92b02dc16 2019-20 Northern          0.0          0.0   \n",
       "00246782f8654441a9df0f6ec0b6fc9f 2019-20 Northern          0.0          0.0   \n",
       "003ed8d32f794609919d60d2ed8813e8 2019-20 Eastern           0.0          0.0   \n",
       "004e93d7552248ed95d8bc3ec21bdbdb 2018-19 Eastern           0.0          0.0   \n",
       "\n",
       "k                                                  Males 31-50  Males 51-99  \\\n",
       "i                                t       m                                    \n",
       "0007d1f1449242feb5a25429644fb991 2019-20 Northern          0.0          0.0   \n",
       "0010cbae3cea4ec9831f6cd92b02dc16 2019-20 Northern          0.0          1.0   \n",
       "00246782f8654441a9df0f6ec0b6fc9f 2019-20 Northern          1.0          0.0   \n",
       "003ed8d32f794609919d60d2ed8813e8 2019-20 Eastern           0.0          0.0   \n",
       "004e93d7552248ed95d8bc3ec21bdbdb 2018-19 Eastern           1.0          0.0   \n",
       "\n",
       "k                                                  log HSize  \n",
       "i                                t       m                    \n",
       "0007d1f1449242feb5a25429644fb991 2019-20 Northern   1.609438  \n",
       "0010cbae3cea4ec9831f6cd92b02dc16 2019-20 Northern   1.098612  \n",
       "00246782f8654441a9df0f6ec0b6fc9f 2019-20 Northern   1.791759  \n",
       "003ed8d32f794609919d60d2ed8813e8 2019-20 Eastern    1.386294  \n",
       "004e93d7552248ed95d8bc3ec21bdbdb 2018-19 Eastern    1.386294  "
      ]
     },
     "execution_count": 3,
     "metadata": {},
     "output_type": "execute_result"
    }
   ],
   "source": [
    "d.head()"
   ]
  },
  {
   "cell_type": "markdown",
   "id": "e1d013b2-6ec7-4092-8724-09404069605c",
   "metadata": {},
   "source": [
    "Also a dataframe of log expenditures $y$ with a similarly simple\n",
    "structure.  Note that any expenditures of zero are dropped and\n",
    "replaced with a missing value indicator.\n",
    "\n"
   ]
  },
  {
   "cell_type": "code",
   "execution_count": 1,
   "id": "00d14ecf-1d47-4b3e-b76e-f6c1b51a1559",
   "metadata": {},
   "outputs": [],
   "source": [
    "y.head()"
   ]
  },
  {
   "cell_type": "markdown",
   "id": "a6d8bf2e-aa4d-4d0b-8b25-e3cf5aa2c943",
   "metadata": {},
   "source": [
    "### Estimation\n",
    "\n"
   ]
  },
  {
   "cell_type": "markdown",
   "id": "521a5b4f-baa7-40a7-91a1-d9e3bc4add4f",
   "metadata": {},
   "source": [
    "Let $y_{i}^j$ be log expenditures on food $j$ by household $i$ at a particular time.  We want to estimate a regression that takes the form\n",
    "$$\n",
    "      y^j_{i} = A^j(p) + \\gamma_j'd_i + \\beta_j w_i + \\zeta^j_i.\n",
    "$$\n",
    "We have data on `y` (log expenditures) and `d` (household characteristics).  This leaves the rest of the elements for us to estimate.\n",
    "\n"
   ]
  },
  {
   "cell_type": "markdown",
   "id": "76105b4c-4d46-4a89-b209-25f00e53164f",
   "metadata": {},
   "source": [
    "#### Basic Estimation\n",
    "\n"
   ]
  },
  {
   "cell_type": "markdown",
   "id": "527b7407-363a-4802-a79b-8ca50c72f606",
   "metadata": {},
   "source": [
    "Just one line to set up the regression:\n",
    "\n"
   ]
  },
  {
   "cell_type": "code",
   "execution_count": 4,
   "id": "8f27d896-9e5b-46db-9da1-062c6acda900",
   "metadata": {},
   "outputs": [],
   "source": [
    "from cfe import Regression\n",
    "\n",
    "result = Regression(y=y,d=d)"
   ]
  },
  {
   "cell_type": "markdown",
   "id": "e1e5c3ec-0e8d-4fd3-9dfa-65d46cad2481",
   "metadata": {},
   "source": [
    "And then one line to predict expenditures and estimate most of the things we need:\n",
    "\n"
   ]
  },
  {
   "cell_type": "code",
   "execution_count": 5,
   "id": "a38166c2-a54c-4e04-be43-a896fbabe375",
   "metadata": {},
   "outputs": [
    {
     "data": {
      "text/plain": [
       "i                                 t        m         j                     \n",
       "0007d1f1449242feb5a25429644fb991  2019-20  Northern  Avocado                    1836.603231\n",
       "                                                     Beans (dry)                8530.391173\n",
       "                                                     Beans (fresh)              4828.283261\n",
       "                                                     Beef                      15788.755164\n",
       "                                                     Bogoya                     4770.257706\n",
       "                                                                                   ...     \n",
       "ffec87c6ae87498f956723afe69266b9  2019-20  Eastern   Sweet Potatoes (fresh)     8625.903421\n",
       "                                                     Tea (leaves)                218.108367\n",
       "                                                     Tomatoes                   1543.016198\n",
       "                                                     Waragi                     4677.821554\n",
       "                                                     Yams (arrowroot)           5174.268876\n",
       "Length: 93400, dtype: float64"
      ]
     },
     "execution_count": 5,
     "metadata": {},
     "output_type": "execute_result"
    }
   ],
   "source": [
    "result.predicted_expenditures()"
   ]
  },
  {
   "cell_type": "markdown",
   "id": "b885f60f-28b3-4959-a445-df301c0ddaed",
   "metadata": {},
   "source": [
    "Now we can compare predicted log expenditures with actual:\n",
    "\n"
   ]
  },
  {
   "cell_type": "code",
   "execution_count": 6,
   "id": "559ac76d-c5f9-4449-b390-1afebbd0f46e",
   "metadata": {},
   "outputs": [
    {
     "data": {
      "text/plain": [
       "<Axes: xlabel='yhat', ylabel='y'>"
      ]
     },
     "execution_count": 6,
     "metadata": {},
     "output_type": "execute_result"
    },
    {
     "data": {
      "image/png": "[encoded data removed]",
      "text/plain": [
       "<Figure size 640x480 with 1 Axes>"
      ]
     },
     "metadata": {},
     "output_type": "display_data"
    }
   ],
   "source": [
    "%matplotlib inline\n",
    "df = pd.DataFrame({'y':y,'yhat':result.get_predicted_log_expenditures()})\n",
    "df.plot.scatter(x='yhat',y='y')"
   ]
  },
  {
   "cell_type": "markdown",
   "id": "1da6633e-fe08-4101-894d-938c690b6ecf",
   "metadata": {},
   "source": [
    "That&rsquo;s all there is to estimation!  Note that we didn&rsquo;t estimate\n",
    "demands for all goods&#x2014;lots of goods didn&rsquo;t have enough observations,\n",
    "and were automatically dropped.\n",
    "\n"
   ]
  },
  {
   "cell_type": "markdown",
   "id": "8c0cf793-d7d7-4d78-be15-66967fa24176",
   "metadata": {},
   "source": [
    "#### Parameters\n",
    "\n"
   ]
  },
  {
   "cell_type": "markdown",
   "id": "324912a2-a430-4735-bfff-adc2dadbb81f",
   "metadata": {},
   "source": [
    "##### (Relative) Income Elasticity\n",
    "\n"
   ]
  },
  {
   "cell_type": "markdown",
   "id": "1b23a164-ad85-459b-b6ca-5cd53ced7803",
   "metadata": {},
   "source": [
    "Some of the parameters have an interesting interpretation.  First among these are the $\\beta$ coefficients, which govern how *income elastic* different goods are (higher values means more elastic).  These are also called *Frisch elasticities*.\n",
    "Here we use a plot to visualize, with confidence intervals.\n",
    "\n"
   ]
  },
  {
   "cell_type": "code",
   "execution_count": 1,
   "id": "bc89cac1-4705-49e6-b884-db484ab93951",
   "metadata": {},
   "outputs": [],
   "source": [
    "ax = result.graph_beta()"
   ]
  },
  {
   "cell_type": "markdown",
   "id": "231e9587-4e73-45d4-b8e1-f56ae75613a3",
   "metadata": {},
   "source": [
    "To just see the values of $\\beta$:\n",
    "\n"
   ]
  },
  {
   "cell_type": "code",
   "execution_count": 1,
   "id": "e4695362-b80a-48c3-a13c-416d67472429",
   "metadata": {},
   "outputs": [],
   "source": [
    "result.get_beta()"
   ]
  },
  {
   "cell_type": "markdown",
   "id": "9f2ed82b-029c-4ff7-953f-bf99902ca3af",
   "metadata": {},
   "source": [
    "##### Demand and Household Composition\n",
    "\n"
   ]
  },
  {
   "cell_type": "markdown",
   "id": "55d1acdb-7d4b-41fe-9ff9-93385dee6f33",
   "metadata": {},
   "source": [
    "We&rsquo;re particularly interested in the effects of household composition on demand.  These are captured by the $\\gamma_j$ parameters in the regression.\n",
    "\n"
   ]
  },
  {
   "cell_type": "code",
   "execution_count": 1,
   "id": "bf60bc61-785c-43b8-8898-00dc1cdee32c",
   "metadata": {},
   "outputs": [],
   "source": [
    "result.get_gamma()"
   ]
  },
  {
   "cell_type": "markdown",
   "id": "88f814b2-3e83-4ef2-925c-0eb9b66ca3ff",
   "metadata": {},
   "source": [
    "##### Welfare\n",
    "\n"
   ]
  },
  {
   "cell_type": "markdown",
   "id": "1f15c804-9129-4a7b-99a7-16e6ef549269",
   "metadata": {},
   "source": [
    "Another import quantity we estimate is $w_i$.  This is a welfare measure for the household.  Here&rsquo;s a histogram:\n",
    "\n"
   ]
  },
  {
   "cell_type": "code",
   "execution_count": 1,
   "id": "c105d86f-5d8b-4ea6-9426-39baa1feedaa",
   "metadata": {},
   "outputs": [],
   "source": [
    "ax = result.get_w().plot.hist(bins=100,density=True)\n",
    "result.get_w().plot.kde(ax=ax)"
   ]
  },
  {
   "cell_type": "markdown",
   "id": "9110714e-6755-47c3-bfc4-b82a6d808ed6",
   "metadata": {},
   "source": [
    "#### Saving Result\n",
    "\n"
   ]
  },
  {
   "cell_type": "markdown",
   "id": "9bc563ca-4c58-4abc-be1b-fe6b41398bd5",
   "metadata": {},
   "source": [
    "You can save the estimated result, using something like\n",
    "\n"
   ]
  },
  {
   "cell_type": "code",
   "execution_count": 7,
   "id": "c67bf6bd-cf57-4ee8-9a6a-d1fdb13a7290",
   "metadata": {},
   "outputs": [],
   "source": [
    "result.to_pickle('uganda_estimates.rgsn')"
   ]
  },
  {
   "cell_type": "markdown",
   "id": "9e8e55fb-4f3d-4c8f-b219-b203554d3599",
   "metadata": {},
   "source": [
    "You can subsequently load this using\n",
    "\n"
   ]
  },
  {
   "cell_type": "code",
   "execution_count": 8,
   "id": "bb3f6724-ab76-4744-8076-bb80b32e9528",
   "metadata": {},
   "outputs": [],
   "source": [
    "import cfe\n",
    "result = cfe.regression.read_pickle('uganda_estimates.rgsn')"
   ]
  },
  {
   "cell_type": "markdown",
   "id": "9bc0d635-589c-463c-9535-dc3b65e525aa",
   "metadata": {},
   "source": [
    "#### Demand and Utility\n",
    "\n"
   ]
  },
  {
   "cell_type": "markdown",
   "id": "93f204d7-165e-41b3-a382-1914ce95062d",
   "metadata": {},
   "source": [
    "Having estimated the demand system, we can examine the implied demand curves.\n",
    "\n"
   ]
  },
  {
   "cell_type": "markdown",
   "id": "bdd0422a-aed6-4818-a5cb-2e308124760a",
   "metadata": {},
   "source": [
    "##### Budgets\n",
    "\n"
   ]
  },
  {
   "cell_type": "markdown",
   "id": "647c8877-7eff-4f89-a75f-b0f98cba05bc",
   "metadata": {},
   "source": [
    "Get food budget for all households, then find median budget:\n",
    "\n"
   ]
  },
  {
   "cell_type": "code",
   "execution_count": 1,
   "id": "86e00f73-2526-4e33-baf2-4dc3714b5727",
   "metadata": {},
   "outputs": [],
   "source": [
    "import numpy as np\n",
    "\n",
    "xhat = result.predicted_expenditures()\n",
    "\n",
    "# Total food expenditures per household\n",
    "xbar = xhat.groupby(['i','t','m']).sum()\n",
    "\n",
    "# Reference budget\n",
    "xref = xbar.quantile(0.5)  # Household at 0.5 quantile is median"
   ]
  },
  {
   "cell_type": "markdown",
   "id": "dbbeebfd-007c-4ca3-9933-e6c7118cfcff",
   "metadata": {},
   "source": [
    "##### Reference Prices\n",
    "\n"
   ]
  },
  {
   "cell_type": "markdown",
   "id": "74bf1cb5-6890-4931-85d4-884e6529e3c0",
   "metadata": {},
   "source": [
    "Choose reference prices.  Here we&rsquo;ll choose a particular year, and average prices across markets.  If you wanted to focus on particular market you&rsquo;d do this differently.\n",
    "\n"
   ]
  },
  {
   "cell_type": "code",
   "execution_count": 1,
   "id": "3146f1b5-ad96-404a-bacc-7fabdb782973",
   "metadata": {},
   "outputs": [],
   "source": [
    "# Reference prices chosen from a particular time; average across place.\n",
    "# These are prices per kilogram:\n",
    "pbar = p.mean(axis=1)\n",
    "pbar = pbar[result.beta.index] # Only use prices for goods we can estimate\n",
    "\n",
    "# Replace missing prices with 1 (this is because they're best measured in expenditures)\n",
    "pbar = pbar.replace(np.nan,1)\n",
    "\n",
    "#Finally, define a function to change a single price in the vector $p$:\n",
    "def my_prices(p0,j,p=pbar):\n",
    "    \"\"\"\n",
    "    Change price of jth good to p0, holding other prices fixed.\n",
    "    \"\"\"\n",
    "    p = p.copy()\n",
    "    p.loc[j] = p0\n",
    "    return p"
   ]
  },
  {
   "cell_type": "markdown",
   "id": "6c1f2614-b71f-4af9-9072-6c4cb1dbdc9e",
   "metadata": {},
   "source": [
    "##### Demand as a function of prices\n",
    "\n"
   ]
  },
  {
   "cell_type": "markdown",
   "id": "7c2f79f4-f6ae-4ff2-8c68-61797289ee0a",
   "metadata": {},
   "source": [
    "Let&rsquo;s take a look at demand schedules for households with different budgets.\n",
    "\n"
   ]
  },
  {
   "cell_type": "code",
   "execution_count": 1,
   "id": "312969ad-014d-4307-a938-1c12ad16da05",
   "metadata": {},
   "outputs": [],
   "source": [
    "import matplotlib.pyplot as plt\n",
    "%matplotlib inline\n",
    "\n",
    "use = 'Millet Flour'  # Good we want demand curve for\n",
    "\n",
    "# Vary prices from 50% to 200% of reference.\n",
    "scale = np.linspace(.5,2,20)\n",
    "\n",
    "# Demand for Millet for household at median budget\n",
    "plt.plot([result.demands(xref,my_prices(pbar[use]*s,use,pbar))[use] for s in scale],scale)\n",
    "\n",
    "# Demand for Millet for household at 25% percentile\n",
    "plt.plot([result.demands(xbar.quantile(0.25),my_prices(pbar[use]*s,use,pbar))[use] for s in scale],scale)\n",
    "\n",
    "# Demand for Millet for household at 75% percentile\n",
    "plt.plot([result.demands(xbar.quantile(0.75),my_prices(pbar[use]*s,use,pbar))[use] for s in scale],scale)\n",
    "\n",
    "plt.ylabel(f\"Price (relative to base of {pbar[use]:.2f})\")\n",
    "plt.xlabel(f\"Quantities of {use} Demanded\")"
   ]
  },
  {
   "cell_type": "markdown",
   "id": "d76487b0-4334-4e61-8a74-aa9486e99ab6",
   "metadata": {},
   "source": [
    "##### Engel Curves\n",
    "\n"
   ]
  },
  {
   "cell_type": "markdown",
   "id": "65dcec3b-fe9f-4a6a-a242-7eaa8acebea5",
   "metadata": {},
   "source": [
    "Engel curves trace out how demand changes with budget:\n",
    "\n"
   ]
  },
  {
   "cell_type": "code",
   "execution_count": 1,
   "id": "998d82a0-d113-4308-90d1-09f3dfd1cdef",
   "metadata": {},
   "outputs": [],
   "source": [
    "fig,ax = plt.subplots()\n",
    "\n",
    "ax.plot(np.log(scale*xref),[result.expenditures(s*xref,pbar)/(s*xref) for s in scale])\n",
    "ax.set_xlabel(f'log budget (relative to base of {xref:.0f}')\n",
    "ax.set_ylabel(f'Expenditure share')\n",
    "ax.set_title('Engel Curves')"
   ]
  },
  {
   "cell_type": "markdown",
   "id": "fd1f74db-72bb-4f46-97e7-22ec5660df5a",
   "metadata": {},
   "source": [
    "##### Indirect Utility\n",
    "\n"
   ]
  },
  {
   "cell_type": "markdown",
   "id": "6680617b-d859-4165-9d34-e05c74d46279",
   "metadata": {},
   "source": [
    "We can also describe an indirect utility function that corresponds to these demands:\n",
    "\n"
   ]
  },
  {
   "cell_type": "code",
   "execution_count": 1,
   "id": "b578255b-4e97-43c8-87fc-4e1695bce84e",
   "metadata": {},
   "outputs": [],
   "source": [
    "fig,ax = plt.subplots()\n",
    "\n",
    "ax.plot(scale*xref,[result.indirect_utility(s*xref,pbar) for s in scale])\n",
    "ax.set_xlabel(f'Indirect Utility (Budget relative to base of {xref:.0f}')\n",
    "ax.set_ylabel(f'Utility')\n",
    "ax.set_title('Indirect Utility Function')"
   ]
  }
 ],
 "metadata": {
  "kernelspec": {
   "display_name": "Python 3 (ipykernel)",
   "language": "python",
   "name": "python3"
  },
  "language_info": {
   "codemirror_mode": {
    "name": "ipython",
    "version": 3
   },
   "file_extension": ".py",
   "mimetype": "text/x-python",
   "name": "python",
   "nbconvert_exporter": "python",
   "pygments_lexer": "ipython3",
   "version": "3.11.5"
  },
  "org": null
 },
 "nbformat": 4,
 "nbformat_minor": 5
}
